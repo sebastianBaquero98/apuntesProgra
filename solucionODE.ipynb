{
 "cells": [
  {
   "cell_type": "markdown",
   "metadata": {},
   "source": [
    "# Sistema de Ecuaciones ODE\n",
    "### Sebastian Baquero"
   ]
  },
  {
   "cell_type": "code",
   "execution_count": 2,
   "metadata": {},
   "outputs": [],
   "source": [
    "# Imports\n",
    "import numpy as np∫\n",
    "import matplotlib.pyplot as plt\n",
    "#from bigfloat import *"
   ]
  },
  {
   "cell_type": "markdown",
   "metadata": {},
   "source": [
    "\n",
    "### Euler hacia adelante\n",
    "#### Se basa en encontrar iterativamente la funcion y(t) a través de la formula y u valor inicial. h es un delta definido por nosotros\n",
    "#### y(t_0 + h) =y(t_0) + h*F(t_0,y_0) Es una aproximacion a y -> Esto nos da una serie de puntos que se acerca a la solucion del problema\n",
    "\n",
    "1. Se defina una función para F(t,y) correspondiente a:  dy(t)/dt = F(t,y)\n",
    "2. Se define un valor h (Este es el tamaño de los pasos que se daran en t. entre más pequeño la aproximación será mejor pero más iteraciones hará el algoritmo)\n",
    "3. Se inicializa una variable con el valor de la condición inicial y_0\n",
    "4. Se crea un arreglo de tiempo desde t_0 hasta el final del tiempo\n",
    "5. Se crea un procedimiento iterativo que recorra todos los valores de tiempo del arreglo y para cada iteración aplicamos la formula"
   ]
  },
  {
   "cell_type": "markdown",
   "metadata": {},
   "source": [
    "![image info](./Images/ecua1.png)"
   ]
  },
  {
   "cell_type": "code",
   "execution_count": 3,
   "metadata": {},
   "outputs": [],
   "source": [
    "# Paso 1\n",
    "def F1(t,y):\n",
    "    return (0.49 - ((0.00245*np.exp(0.49 * t))/(0.49+0.005*(np.exp(0.49 * t)-1))))*y\n",
    "\n",
    "# Paso 2\n",
    "h = 0.001   \n",
    "\n",
    "# Paso 3\n",
    "y_0 = 0.01\n",
    "t_0 = 0\n",
    "t_f = 30\n",
    "\n",
    "# Paso 4\n",
    "T = np.arange(t_0,t_f+h,h)\n",
    "\n",
    "# Paso 5\n",
    "# Contiene los valores estimados de la solucion\n",
    "yEulerFor = np.zeros(len(T))\n",
    "# Ingresomos valor inicial\n",
    "yEulerFor[0] = y_0\n",
    "for i in range(1,len(T)):\n",
    "    yEulerFor[i] = yEulerFor[i-1] + h*F1(T[i-1],yEulerFor[i-1])\n"
   ]
  },
  {
   "cell_type": "code",
   "execution_count": 4,
   "metadata": {},
   "outputs": [
    {
     "data": {
      "image/png": "[encoded data removed]",
      "text/plain": [
       "<Figure size 432x288 with 1 Axes>"
      ]
     },
     "metadata": {
      "needs_background": "light"
     },
     "output_type": "display_data"
    }
   ],
   "source": [
    "# Graficamos\n",
    "plt.figure()\n",
    "plt.plot(T,yEulerFor,'r')\n",
    "plt.xlabel('t',fontsize=15)\n",
    "plt.ylabel('Y(t)',fontsize=15)\n",
    "plt.grid(1)\n",
    "plt.show()"
   ]
  },
  {
   "cell_type": "code",
   "execution_count": 5,
   "metadata": {},
   "outputs": [],
   "source": [
    "def soluAnalitic(t):\n",
    "    a= 0.5\n",
    "    b=0.01\n",
    "    So = 0.99\n",
    "    Io = 1-So\n",
    "    N = So + Io\n",
    "    return ((a*N-b)*Io*np.exp((a*N-b)*t)/((a*N-b)+a*Io*(np.exp((a*N-b)*t)-1)))"
   ]
  },
  {
   "cell_type": "code",
   "execution_count": 6,
   "metadata": {},
   "outputs": [
    {
     "data": {
      "image/png": "[encoded data removed]",
      "text/plain": [
       "<Figure size 432x288 with 1 Axes>"
      ]
     },
     "metadata": {
      "needs_background": "light"
     },
     "output_type": "display_data"
    }
   ],
   "source": [
    "# Graficamos\n",
    "plt.figure()\n",
    "plt.plot(T,soluAnalitic(T),'b')\n",
    "plt.plot(T,yEulerFor,'r')\n",
    "plt.xlabel('t',fontsize=15)\n",
    "plt.ylabel('Y(t)',fontsize=15)\n",
    "plt.legend(['Analitic Solution','Euler Solution'],fontsize=12)\n",
    "plt.grid(1)\n",
    "plt.show()"
   ]
  },
  {
   "cell_type": "markdown",
   "metadata": {},
   "source": [
    "#### Error local y acumulado\n",
    "#### Error Local\n",
    "E_i = |y(t_i) - `y(t_i)|\n",
    "`y -> y gorro -> Estimación"
   ]
  },
  {
   "cell_type": "markdown",
   "metadata": {},
   "source": [
    "### Euler hacia atrás\n",
    "y(t_i) = y(t_(i-1)) + h*F(t_i,y(t_i))\n",
    "\n",
    "- Aqui tenemos un problema ya que y(t_i) es lo que queremos hallar pero hace parte de la formula para hallarlo. Por lo tanto, se tendrá que manipular la ecuación para correjir el problema. La ecuación se manipula despejando y(t_i), despues de haber remplazado el valor de F\n"
   ]
  },
  {
   "cell_type": "markdown",
   "metadata": {},
   "source": []
  },
  {
   "cell_type": "markdown",
   "metadata": {},
   "source": [
    "## Proyecto Final"
   ]
  },
  {
   "cell_type": "code",
   "execution_count": 7,
   "metadata": {},
   "outputs": [],
   "source": [
    "# Proyecto Final\n",
    "\n",
    "\n",
    "def dS(lmbda,beta,S,delta,I,L,mu):\n",
    "    return lmbda - beta*S*(I + delta*L) - mu*S\n",
    "\n",
    "def dE(beta,ro,S,I,delta,L,r_2,mu,kappa,r_1,E):\n",
    "    return beta*(1 - ro)*S*(I + delta*L) + r_2*I - (mu + kappa*(1 - r_1))*E\n",
    "\n",
    "def dI(beta,ro,S,I,delta,L,kappa,r_1,E,gamma,mu,d_1,fi,r_2):\n",
    "    return beta*ro*S*(I + delta*L) + kappa*(1 - r_1)*E + gamma*L - (mu + d_1 + fi*(1 - r_2) + r_2)*I\n",
    "\n",
    "def dL(fi,r_2,I,mu,d_2,gamma,L):\n",
    "    return fi*(1 - r_2)*I - (mu + d_2 + gamma)*L\n",
    "\n",
    "\n",
    "\n"
   ]
  },
  {
   "cell_type": "markdown",
   "metadata": {},
   "source": [
    "### Euler hacia adelante"
   ]
  },
  {
   "cell_type": "code",
   "execution_count": 8,
   "metadata": {},
   "outputs": [
    {
     "name": "stderr",
     "output_type": "stream",
     "text": [
      "<ipython-input-7-b77eb5bfa4b7>:5: RuntimeWarning: overflow encountered in double_scalars\n",
      "  return lmbda - beta*S*(I + delta*L) - mu*S\n",
      "<ipython-input-7-b77eb5bfa4b7>:11: RuntimeWarning: overflow encountered in double_scalars\n",
      "  return beta*ro*S*(I + delta*L) + kappa*(1 - r_1)*E + gamma*L - (mu + d_1 + fi*(1 - r_2) + r_2)*I\n",
      "<ipython-input-7-b77eb5bfa4b7>:8: RuntimeWarning: overflow encountered in double_scalars\n",
      "  return beta*(1 - ro)*S*(I + delta*L) + r_2*I - (mu + kappa*(1 - r_1))*E\n",
      "<ipython-input-7-b77eb5bfa4b7>:5: RuntimeWarning: invalid value encountered in double_scalars\n",
      "  return lmbda - beta*S*(I + delta*L) - mu*S\n",
      "<ipython-input-7-b77eb5bfa4b7>:11: RuntimeWarning: invalid value encountered in double_scalars\n",
      "  return beta*ro*S*(I + delta*L) + kappa*(1 - r_1)*E + gamma*L - (mu + d_1 + fi*(1 - r_2) + r_2)*I\n",
      "<ipython-input-7-b77eb5bfa4b7>:8: RuntimeWarning: invalid value encountered in double_scalars\n",
      "  return beta*(1 - ro)*S*(I + delta*L) + r_2*I - (mu + kappa*(1 - r_1))*E\n"
     ]
    }
   ],
   "source": [
    "\n",
    "# S_i =  S_(i-1) + h*dS(lmbda,beta,S_(i-1),delta,I_(i-1),L_(i-1),mu)\n",
    "# ------ PARAMETROS -----\n",
    "# TODO aqui falta poner los valores\n",
    "beta = 0.3\n",
    "fi = 0.02\n",
    "mu = 0.0101\n",
    "lmbda = 2/6480000000\n",
    "delta = 1/6480000000\n",
    "ro = 0.3\n",
    "kappa = 0.005\n",
    "r1= 0\n",
    "r2= 0.8182\n",
    "gamma = 0.01\n",
    "d1= 0.022722\n",
    "d2= 0.20\n",
    "\n",
    "# Paso 2\n",
    "h = 0.01  \n",
    "# Paso 3\n",
    "# 6.48 miles de millones\n",
    "# 6,480,000,000 Poblacion 2009\n",
    "# 2 billones infecatods (1/3)\n",
    "# 2,000,000,000\n",
    "# Nueva cantidad de infecatdos anual - > 9,000,000\n",
    "# 2,000,000 de muertos anual\n",
    "# CANTIDAD DE SUCEPTIBLES -> 4,480,000,000\n",
    "# CANTIDAD DE INFECTADOS -> 1,200,000,000\n",
    "# CANTIDAD DE INFECCIOSOS-> 600,000,000\n",
    "# CANTIDAD DE PERDER RASTRO -> 200,000,000\n",
    "s_0 = 4480000000\n",
    "e_0 = 1200000000\n",
    "i_0 = 600000000\n",
    "l_0 = 200000000\n",
    "t_0 = 0\n",
    "# Ingresado por el usario en años\n",
    "t_f = 30\n",
    "\n",
    "# Paso 4\n",
    "T = np.arange(t_0,t_f+h,h)\n",
    "\n",
    "# Paso 5\n",
    "# Contiene los valores estimados de la solucion\n",
    "sEulerFor = np.zeros(len(T))\n",
    "eEulerFor = np.zeros(len(T))\n",
    "iEulerFor = np.zeros(len(T))\n",
    "lEulerFor = np.zeros(len(T))\n",
    "# Ingresomos valor inicial\n",
    "sEulerFor[0] = s_0\n",
    "eEulerFor[0] = e_0\n",
    "iEulerFor[0] = i_0\n",
    "lEulerFor[0] = l_0\n",
    "\n",
    "for i in range(1,len(T)):\n",
    "    sEulerFor[i] = sEulerFor[i-1] + h*dS(lmbda,beta,sEulerFor[i-1],delta,iEulerFor[i-1],lEulerFor[i-1],mu)\n",
    "    iEulerFor[i] = iEulerFor[i-1] + h*dI(beta,ro,sEulerFor[i-1],iEulerFor[i-1],delta,lEulerFor[i-1],kappa,r1,eEulerFor[i-1],gamma,mu,d1,fi,r2)\n",
    "    eEulerFor[i] = eEulerFor[i-1] + h*dE(beta,ro,sEulerFor[i-1],iEulerFor[i-1],delta,lEulerFor[i-1],r2,mu,kappa,r1,eEulerFor[i-1])\n",
    "    lEulerFor[i] = lEulerFor[i-1] + h*dL(fi,r2,iEulerFor[i-1],mu,d2,gamma,lEulerFor[i-1])\n",
    "    #print(f'S: {sEulerFor[i]}')\n",
    "    #print(f'I: {iEulerFor[i]}')\n",
    "    #print(f'E: {eEulerFor[i]}')\n",
    "    #print(f'L: {lEulerFor[i]}')\n"
   ]
  },
  {
   "cell_type": "code",
   "execution_count": 15,
   "metadata": {},
   "outputs": [
    {
     "data": {
      "image/png": "[encoded data removed]",
      "text/plain": [
       "<Figure size 1440x360 with 4 Axes>"
      ]
     },
     "metadata": {
      "needs_background": "light"
     },
     "output_type": "display_data"
    }
   ],
   "source": [
    "# Graficamos S(t)\n",
    "fig, axs = plt.subplots(1,4,figsize=(20,5))\n",
    "plt.xlabel('t',fontsize=15)\n",
    "axs[0].plot(T,sEulerFor)\n",
    "axs[1].plot(T,eEulerFor)\n",
    "axs[2].plot(T,iEulerFor)\n",
    "axs[3].plot(T,lEulerFor)\n",
    "plt.show()"
   ]
  },
  {
   "cell_type": "code",
   "execution_count": 17,
   "metadata": {},
   "outputs": [
    {
     "data": {
      "image/png": "[encoded data removed]",
      "text/plain": [
       "<Figure size 432x288 with 1 Axes>"
      ]
     },
     "metadata": {
      "needs_background": "light"
     },
     "output_type": "display_data"
    }
   ],
   "source": [
    "# Graficamos S(t)\n",
    "plt.figure()\n",
    "plt.plot(T,sEulerFor)\n",
    "plt.xlabel('t',fontsize=15)\n",
    "plt.ylabel('S(t)',fontsize=15)\n",
    "plt.grid(1)\n",
    "plt.show()"
   ]
  },
  {
   "cell_type": "markdown",
   "metadata": {},
   "source": [
    "### Euler hacia atrás\n",
    "Hay que manipular las 4 ecuaciones para que podamos aplicar el metodo"
   ]
  },
  {
   "cell_type": "code",
   "execution_count": 22,
   "metadata": {},
   "outputs": [],
   "source": [
    "def dSBack(lmbda,beta,S,delta,I,L,mu):\n",
    "    return S + h*(lmbda - beta*S*(I+delta*L))/(1+h*mu)\n",
    "\n",
    "def dEBack(beta,ro,S,I,delta,L,r_2,mu,kappa,r_1,E):\n",
    "    return E + h*(beta*(1-ro)*S*(I+delta*L)+r_2*I)/(1+h*(mu+kappa*(1-r_1)))\n",
    "\n",
    "def dIBack(beta,ro,S,I,delta,L,kappa,r_1,E,gamma,mu,d_1,fi,r_2):\n",
    "    return I + h*(beta*ro*S*(1+delta*L)+kappa*(1-r_1)*E+gamma*L)/(1+h*(mu*d_1+fi*(1-r_2)+r_2))\n",
    "\n",
    "def dLBack(fi,r_2,I,mu,d_2,gamma,L):\n",
    "    return L + h*(fi*(1-r_2)*I)/(1+h*(mu*d_2+gamma))\n",
    "    "
   ]
  },
  {
   "cell_type": "markdown",
   "metadata": {},
   "source": []
  },
  {
   "cell_type": "code",
   "execution_count": 23,
   "metadata": {},
   "outputs": [
    {
     "name": "stderr",
     "output_type": "stream",
     "text": [
      "<ipython-input-22-34ce52efad27>:2: RuntimeWarning: overflow encountered in double_scalars\n",
      "  return S + h*(lmbda - beta*S*(I+delta*L))/(1+h*mu)\n",
      "<ipython-input-22-34ce52efad27>:5: RuntimeWarning: overflow encountered in double_scalars\n",
      "  return E + h*(beta*(1-ro)*S*(I+delta*L)+r_2*I)/(1+h*(mu+kappa*(1-r_1)))\n",
      "<ipython-input-22-34ce52efad27>:2: RuntimeWarning: invalid value encountered in double_scalars\n",
      "  return S + h*(lmbda - beta*S*(I+delta*L))/(1+h*mu)\n",
      "<ipython-input-22-34ce52efad27>:5: RuntimeWarning: invalid value encountered in double_scalars\n",
      "  return E + h*(beta*(1-ro)*S*(I+delta*L)+r_2*I)/(1+h*(mu+kappa*(1-r_1)))\n"
     ]
    }
   ],
   "source": [
    "# Parametros y valores iniciales\n",
    "s_0 = 4480000000\n",
    "e_0 = 1200000000\n",
    "i_0 = 600000000\n",
    "l_0 = 200000000\n",
    "t_0 = 0\n",
    "# Ingresado por el usario en años\n",
    "t_f = 30\n",
    "\n",
    "# Paso 4\n",
    "T = np.arange(t_0,t_f+h,h)\n",
    "\n",
    "# Paso 5\n",
    "# Contiene los valores estimados de la solucion\n",
    "sEulerB = np.zeros(len(T))\n",
    "eEulerB = np.zeros(len(T))\n",
    "iEulerB = np.zeros(len(T))\n",
    "lEulerB = np.zeros(len(T))\n",
    "# Ingresomos valor inicial\n",
    "sEulerB[0] = s_0\n",
    "eEulerB[0] = e_0\n",
    "iEulerB[0] = i_0\n",
    "lEulerB[0] = l_0\n",
    "\n",
    "for i in range(1,len(T)):\n",
    "    sEulerB[i] = dSBack(lmbda,beta,sEulerB[i-1],delta,iEulerB[i-1],lEulerB[i-1],mu)\n",
    "    iEulerB[i] = dIBack(beta,ro,sEulerB[i-1],iEulerB[i-1],delta,lEulerB[i-1],kappa,r1,eEulerB[i-1],gamma,mu,d1,fi,r2)\n",
    "    eEulerB[i] = dEBack(beta,ro,sEulerB[i-1],iEulerB[i-1],delta,lEulerB[i-1],r2,mu,kappa,r1,eEulerB[i-1])\n",
    "    lEulerB[i] = dLBack(fi,r2,iEulerB[i-1],mu,d2,gamma,lEulerB[i-1])"
   ]
  },
  {
   "cell_type": "code",
   "execution_count": 24,
   "metadata": {},
   "outputs": [
    {
     "data": {
      "image/png": "[encoded data removed]",
      "text/plain": [
       "<Figure size 432x288 with 1 Axes>"
      ]
     },
     "metadata": {
      "needs_background": "light"
     },
     "output_type": "display_data"
    }
   ],
   "source": [
    "# Graficamos S(t)\n",
    "plt.figure()\n",
    "plt.plot(T,sEulerB)\n",
    "plt.xlabel('t',fontsize=15)\n",
    "plt.ylabel('S(t)',fontsize=15)\n",
    "plt.grid(1)\n",
    "plt.show()"
   ]
  },
  {
   "cell_type": "code",
   "execution_count": null,
   "metadata": {},
   "outputs": [],
   "source": []
  }
 ],
 "metadata": {
  "interpreter": {
   "hash": "aee8b7b246df8f9039afb4144a1f6fd8d2ca17a180786b69acc140d282b71a49"
  },
  "kernelspec": {
   "display_name": "Python 3.9.1 64-bit",
   "language": "python",
   "name": "python3"
  },
  "language_info": {
   "codemirror_mode": {
    "name": "ipython",
    "version": 3
   },
   "file_extension": ".py",
   "mimetype": "text/x-python",
   "name": "python",
   "nbconvert_exporter": "python",
   "pygments_lexer": "ipython3",
   "version": "3.9.1"
  },
  "orig_nbformat": 4
 },
 "nbformat": 4,
 "nbformat_minor": 2
}
