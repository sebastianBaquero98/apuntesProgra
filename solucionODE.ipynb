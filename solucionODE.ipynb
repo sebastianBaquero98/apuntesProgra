{
 "cells": [
  {
   "cell_type": "markdown",
   "metadata": {},
   "source": [
    "# Sistema de Ecuaciones ODE\n",
    "### Sebastian Baquero"
   ]
  },
  {
   "cell_type": "code",
   "execution_count": 9,
   "metadata": {},
   "outputs": [],
   "source": [
    "# Imports\n",
    "import numpy as np\n",
    "import matplotlib.pyplot as plt"
   ]
  },
  {
   "cell_type": "markdown",
   "metadata": {},
   "source": [
    "\n",
    "### Euler hacia adelante\n",
    "#### Se basa en encontrar iterativamente la funcion y(t) a través de la formula y u valor inicial. h es un delta definido por nosotros\n",
    "#### y(t_0 + h) =y(t_0) + h*F(t_0,y_0) Es una aproximacion a y -> Esto nos da una serie de puntos que se acerca a la solucion del problema\n",
    "\n",
    "1. Se defina una función para F(t,y) correspondiente a:  dy(t)/dt = F(t,y)\n",
    "2. Se define un valor h (Este es el tamaño de los pasos que se daran en t. entre más pequeño la aproximación será mejor pero más iteraciones hará el algoritmo)\n",
    "3. Se inicializa una variable con el valor de la condición inicial y_0\n",
    "4. Se crea un arreglo de tiempo desde t_0 hasta el final del tiempo\n",
    "5. Se crea un procedimiento iterativo que recorra todos los valores de tiempo del arreglo y para cada iteración aplicamos la formula"
   ]
  },
  {
   "cell_type": "markdown",
   "metadata": {},
   "source": [
    "![image info](./Images/ecua1.png)"
   ]
  },
  {
   "cell_type": "code",
   "execution_count": 27,
   "metadata": {},
   "outputs": [],
   "source": [
    "# Paso 1\n",
    "def F1(t,y):\n",
    "    return (0.49 - ((0.00245*np.exp(0.49 * t))/(0.49+0.005*(np.exp(0.49 * t)-1))))*y\n",
    "\n",
    "# Paso 2\n",
    "h = 0.001   \n",
    "\n",
    "# Paso 3\n",
    "y_0 = 0.01\n",
    "t_0 = 0\n",
    "t_f = 30\n",
    "\n",
    "# Paso 4\n",
    "T = np.arange(t_0,t_f+h,h)\n",
    "\n",
    "# Paso 5\n",
    "# Contiene los valores estimados de la solucion\n",
    "yEulerFor = np.zeros(len(T))\n",
    "# Ingresomos valor inicial\n",
    "yEulerFor[0] = y_0\n",
    "for i in range(1,len(T)):\n",
    "    yEulerFor[i] = yEulerFor[i-1] + h*F1(T[i-1],yEulerFor[i-1])\n"
   ]
  },
  {
   "cell_type": "code",
   "execution_count": 28,
   "metadata": {},
   "outputs": [
    {
     "data": {
      "image/png": "[encoded data removed]",
      "text/plain": [
       "<Figure size 432x288 with 1 Axes>"
      ]
     },
     "metadata": {
      "needs_background": "light"
     },
     "output_type": "display_data"
    }
   ],
   "source": [
    "# Graficamos\n",
    "plt.figure()\n",
    "plt.plot(T,yEulerFor,'r')\n",
    "plt.xlabel('t',fontsize=15)\n",
    "plt.ylabel('Y(t)',fontsize=15)\n",
    "plt.grid(1)\n",
    "plt.show()"
   ]
  },
  {
   "cell_type": "code",
   "execution_count": 12,
   "metadata": {},
   "outputs": [],
   "source": [
    "def soluAnalitic(t):\n",
    "    a= 0.5\n",
    "    b=0.01\n",
    "    So = 0.99\n",
    "    Io = 1-So\n",
    "    N = So + Io\n",
    "    return ((a*N-b)*Io*np.exp((a*N-b)*t)/((a*N-b)+a*Io*(np.exp((a*N-b)*t)-1)))"
   ]
  },
  {
   "cell_type": "code",
   "execution_count": 21,
   "metadata": {},
   "outputs": [
    {
     "data": {
      "image/png": "[encoded data removed]",
      "text/plain": [
       "<Figure size 432x288 with 1 Axes>"
      ]
     },
     "metadata": {
      "needs_background": "light"
     },
     "output_type": "display_data"
    }
   ],
   "source": [
    "# Graficamos\n",
    "plt.figure()\n",
    "plt.plot(T,soluAnalitic(T),'b')\n",
    "plt.plot(T,yEulerFor,'r')\n",
    "plt.xlabel('t',fontsize=15)\n",
    "plt.ylabel('Y(t)',fontsize=15)\n",
    "plt.legend(['Analitic Solution','Euler Solution'],fontsize=12)\n",
    "plt.grid(1)\n",
    "plt.show()"
   ]
  },
  {
   "cell_type": "markdown",
   "metadata": {},
   "source": [
    "#### Error local y acumulado\n",
    "#### Error Local\n",
    "E_i = |y(t_i) - `y(t_i)|\n",
    "`y -> y gorro -> Estimación"
   ]
  },
  {
   "cell_type": "code",
   "execution_count": 29,
   "metadata": {},
   "outputs": [],
   "source": [
    "# Proyecto Final\n",
    "\n",
    "# F1(lmbda,beta,S,delta,I,L,mu)\n",
    "def dS(lmbda,beta,S,delta,I,L,mu):\n",
    "    return lmbda - beta*S*(I + delta*L) - mu*S\n",
    "\n",
    "#F2(beta,ro,S,I,delta,L,r_2,mu,kappa,r_1,E)\n",
    "def dE(beta,ro,S,I,delta,L,r_2,mu,kappa,r_1,E):\n",
    "    return beta*(1 - ro)*S*(I + delta*L) + r_2*I - [mu + kappa*(1 - r_1)]*E\n",
    "\n",
    "#F3(beta,ro,S,I,delta,L,kappa,r_1,E,gamma,mu,d_1,fi,r_2)\n",
    "def dI(beta,ro,S,I,delta,L,kappa,r_1,E,gamma,mu,d_1,fi,r_2):\n",
    "    return beta*ro*S*(I + delta*L) + kappa*(1 - r_1)*E + gamma*L - [mu + d_1 + fi*(1 - r_2) + r_2]*I\n",
    "\n",
    "#F3(fi,r_2,I,mu,d_2,gamma,L)\n",
    "def dL(fi,r_2,I,mu,d_2,gamma,L):\n",
    "    return fi*(1 - r_2)*I - (mu + d_2 + gamma)*L\n",
    "\n",
    "\n",
    "\n"
   ]
  },
  {
   "cell_type": "markdown",
   "metadata": {},
   "source": [
    "### Euler hacia adelante"
   ]
  },
  {
   "cell_type": "code",
   "execution_count": null,
   "metadata": {},
   "outputs": [],
   "source": [
    "\n",
    "# S_i =  S_(i-1) + h*dS(lmbda,beta,S_(i-1),delta,I_(i-1),L_(i-1),mu)\n",
    "# ------ PARAMETROS -----\n",
    "beta = u'\\u03b2'\n",
    "fi = u'\\u03d5'\n",
    "mu = u'\\u03bc'\n",
    "lmbda = u'\\u03BB'\n",
    "delta = u'\\u03B4'\n",
    "ro = u'\\u03C1'\n",
    "kappa = u'\\u03BA'\n",
    "r1= 'r1'\n",
    "r2= 'r2'\n",
    "gamma = u'\\u03B3'\n",
    "d1= 'd1'\n",
    "d2= 'd2'\n",
    "\n",
    "\n",
    "# Paso 2\n",
    "h = 0.01  \n",
    "# Paso 3\n",
    "# TODO ¿No deberia saber en el tiempo 0 cuanta poblacion suceptible existe? ¿Debe ser esto ingresado por parametro?\n",
    "# Digamos que es una población de 1 millon\n",
    "s_0 = 1000000\n",
    "t_0 = 0\n",
    "# Ingresado por el usario en años\n",
    "t_f = 30\n",
    "\n",
    "# Paso 4\n",
    "T = np.arange(t_0,t_f+h,h)\n",
    "\n",
    "# Paso 5\n",
    "# Contiene los valores estimados de la solucion\n",
    "sEulerFor = np.zeros(len(T))\n",
    "# Ingresomos valor inicial\n",
    "yEulerFor[0] = s_0\n",
    "\n",
    "for i in range(1,len(T)):\n",
    "    sEulerFor[i] = yEulerFor[i-1] + h*dS(lmbda,beta,sEulerFor[i-1],delta,I(),L(),mu)\n",
    "\n"
   ]
  }
 ],
 "metadata": {
  "interpreter": {
   "hash": "aee8b7b246df8f9039afb4144a1f6fd8d2ca17a180786b69acc140d282b71a49"
  },
  "kernelspec": {
   "display_name": "Python 3.9.1 64-bit",
   "language": "python",
   "name": "python3"
  },
  "language_info": {
   "codemirror_mode": {
    "name": "ipython",
    "version": 3
   },
   "file_extension": ".py",
   "mimetype": "text/x-python",
   "name": "python",
   "nbconvert_exporter": "python",
   "pygments_lexer": "ipython3",
   "version": "3.9.1"
  },
  "orig_nbformat": 4
 },
 "nbformat": 4,
 "nbformat_minor": 2
}
